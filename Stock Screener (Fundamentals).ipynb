{
 "cells": [
  {
   "cell_type": "code",
   "execution_count": 41,
   "metadata": {},
   "outputs": [],
   "source": [
    "# https://github.com/mariostoev/finviz\n",
    "import finviz \n",
    "import pandas as pd\n",
    "import numpy as np\n",
    "import yfinance as yf\n",
    "import datetime as dt\n",
    "from datetime import timedelta\n",
    "import matplotlib.pyplot as plt\n",
    "import matplotlib.dates as mdates\n",
    "import matplotlib.ticker as mticker\n",
    "# Work around Yahoo Finance\n",
    "yf.pdr_override()"
   ]
  },
  {
   "cell_type": "code",
   "execution_count": 42,
   "metadata": {},
   "outputs": [
    {
     "data": {
      "text/plain": [
       "['Portfolio',\n",
       " 'Screener',\n",
       " '__builtins__',\n",
       " '__cached__',\n",
       " '__doc__',\n",
       " '__file__',\n",
       " '__loader__',\n",
       " '__name__',\n",
       " '__package__',\n",
       " '__path__',\n",
       " '__spec__',\n",
       " 'config',\n",
       " 'get_all_news',\n",
       " 'get_analyst_price_targets',\n",
       " 'get_insider',\n",
       " 'get_news',\n",
       " 'get_stock',\n",
       " 'helper_functions',\n",
       " 'main_func',\n",
       " 'portfolio',\n",
       " 'screener']"
      ]
     },
     "execution_count": 42,
     "metadata": {},
     "output_type": "execute_result"
    }
   ],
   "source": [
    "dir(finviz)\n"
   ]
  },
  {
   "cell_type": "code",
   "execution_count": 57,
   "metadata": {},
   "outputs": [],
   "source": [
    "# List of tickers to check \n",
    "tickers = ['AAPL', 'MSFT', 'CRSR', 'GPRO', 'CRM']\n",
    "# Figures to parse \n",
    "figures = ['Sector', 'Industry', 'P/E', 'Insider Own', 'EPS (ttm)', 'Sales']\n",
    "# Requirements to pass whereby (0,50) means between 0 and 50 etc. \n",
    "requirements = {'P/E':(0,150), 'Short Ratio':(0,10), 'Insider Own':(0,0.9), 'Insider Trans':(-1,1)}\n"
   ]
  },
  {
   "cell_type": "code",
   "execution_count": 58,
   "metadata": {},
   "outputs": [],
   "source": [
    "# Checks to see if the values are in between. \n",
    "def checker(data, req):\n",
    "    x = False \n",
    "    data = float_conversion(data)\n",
    "    if req[0] <= data <= req[1]:\n",
    "        x = True \n",
    "    return x \n",
    "# Converts the values to a float whilst accounting for %'s\n",
    "def float_conversion(x): \n",
    "    if x[0] == '-':\n",
    "        x = -1 # Returns a -1 which will be false for all the factors we are checking, since - means no data for it so we skip\n",
    "    elif x[-1] == '%':\n",
    "        x = float(x[:-1])/100 # Converts to decimal format whilst getting rid of the % \n",
    "    else: \n",
    "        x = float(x)\n",
    "    return x "
   ]
  },
  {
   "cell_type": "code",
   "execution_count": 60,
   "metadata": {},
   "outputs": [
    {
     "name": "stdout",
     "output_type": "stream",
     "text": [
      "P/E 34.58\n",
      "Short Ratio 1.00\n",
      "Insider Own 0.08%\n",
      "Insider Trans -3.51%\n",
      "P/E 37.22\n",
      "Short Ratio 1.63\n",
      "Insider Own 0.10%\n",
      "Insider Trans -7.88%\n",
      "P/E 31.61\n",
      "Short Ratio 1.80\n",
      "Insider Own 3.50%\n",
      "Insider Trans -90.03%\n",
      "P/E -\n",
      "Short Ratio 1.55\n",
      "Insider Own 1.60%\n",
      "Insider Trans -24.72%\n",
      "P/E 50.01\n",
      "Short Ratio 2.72\n",
      "Insider Own 0.20%\n",
      "Insider Trans -23.01%\n"
     ]
    }
   ],
   "source": [
    "# Stores tickers which have passed the test. \n",
    "Accepted_Tickers = []\n",
    "for ticker in tickers:\n",
    "    data = finviz.get_stock(ticker)\n",
    "    a = 0 # Acts like a checker, to make sure each statement is passed as True \n",
    "    for req in requirements.keys(): \n",
    "        check = checker(data[req], requirements[req]) # Other variable for checking if the data point is satisfactory \n",
    "        #print(req, data[req])\n",
    "        if check is False:\n",
    "            a = 1\n",
    "    if a == 0: \n",
    "        Accepted_Tickers.append(ticker)"
   ]
  },
  {
   "cell_type": "code",
   "execution_count": 61,
   "metadata": {},
   "outputs": [
    {
     "name": "stdout",
     "output_type": "stream",
     "text": [
      "{'AAPL': {'Sector': 'Technology', 'Industry': 'Consumer Electronics', 'P/E': '34.58', 'Insider Own': '0.08%', 'EPS (ttm)': '3.70', 'Sales': '294.13B'}, 'MSFT': {'Sector': 'Technology', 'Industry': 'Software - Infrastructure', 'P/E': '37.22', 'Insider Own': '0.10%', 'EPS (ttm)': '6.71', 'Sales': '153.28B'}, 'CRSR': {'Sector': 'Technology', 'Industry': 'Computer Hardware', 'P/E': '31.61', 'Insider Own': '3.50%', 'EPS (ttm)': '1.09', 'Sales': '1.70B'}, 'CRM': {'Sector': 'Technology', 'Industry': 'Software - Application', 'P/E': '50.01', 'Insider Own': '0.20%', 'EPS (ttm)': '4.42', 'Sales': '21.25B'}}\n"
     ]
    }
   ],
   "source": [
    "# Stores required parsed info for each ticker \n",
    "info = {}\n",
    "for ticker in Accepted_Tickers:\n",
    "    # Parses out the individual required figures for each ticker. \n",
    "    required_info = {}\n",
    "    data = finviz.get_stock(ticker)\n",
    "    for figure in figures:\n",
    "        required_info[figure] = data[figure]\n",
    "    info[ticker] = required_info\n",
    "print(info) "
   ]
  },
  {
   "cell_type": "code",
   "execution_count": null,
   "metadata": {},
   "outputs": [],
   "source": []
  }
 ],
 "metadata": {
  "kernelspec": {
   "display_name": "Python 3",
   "language": "python",
   "name": "python3"
  },
  "language_info": {
   "codemirror_mode": {
    "name": "ipython",
    "version": 3
   },
   "file_extension": ".py",
   "mimetype": "text/x-python",
   "name": "python",
   "nbconvert_exporter": "python",
   "pygments_lexer": "ipython3",
   "version": "3.8.6"
  }
 },
 "nbformat": 4,
 "nbformat_minor": 4
}
